{
  "nbformat": 4,
  "nbformat_minor": 0,
  "metadata": {
    "colab": {
      "provenance": []
    },
    "kernelspec": {
      "name": "python3",
      "display_name": "Python 3"
    },
    "language_info": {
      "name": "python"
    }
  },
  "cells": [
    {
      "cell_type": "code",
      "execution_count": null,
      "metadata": {
        "id": "HEhxlquIZogt"
      },
      "outputs": [],
      "source": [
        "  # ângulo do ponteiro das horas\n",
        "def anguloH(hora):\n",
        "    ang_entre_horas = 360/12\n",
        "    return ang_entre_horas*hora"
      ]
    },
    {
      "cell_type": "code",
      "source": [
        "anguloH(1)"
      ],
      "metadata": {
        "colab": {
          "base_uri": "https://localhost:8080/"
        },
        "id": "N6szG5qta4uH",
        "outputId": "d4e09c69-85cb-4966-e3bd-f58fc44544f2"
      },
      "execution_count": null,
      "outputs": [
        {
          "output_type": "execute_result",
          "data": {
            "text/plain": [
              "30.0"
            ]
          },
          "metadata": {},
          "execution_count": 2
        }
      ]
    },
    {
      "cell_type": "code",
      "source": [
        "  # ângulo do ponteiro dos minutos\n",
        "def anguloM(minuto):\n",
        "    ang_entre_minutos = 360/60\n",
        "    return ang_entre_minutos*minuto\n"
      ],
      "metadata": {
        "id": "s0rt22JqbnP8"
      },
      "execution_count": null,
      "outputs": []
    },
    {
      "cell_type": "code",
      "source": [
        "anguloM(45)"
      ],
      "metadata": {
        "colab": {
          "base_uri": "https://localhost:8080/"
        },
        "id": "nRnOqnnBcyde",
        "outputId": "41a06d69-a5c2-4e4f-ef09-a4ef7f393c25"
      },
      "execution_count": null,
      "outputs": [
        {
          "output_type": "execute_result",
          "data": {
            "text/plain": [
              "270.0"
            ]
          },
          "metadata": {},
          "execution_count": 4
        }
      ]
    },
    {
      "cell_type": "code",
      "source": [
        "  #ângulo entre horas e minutos\n",
        "def angulo(h,m):\n",
        "    d1 = anguloH(h) - anguloM(m)\n",
        "    d1_modulo = abs(d1)\n",
        "    d2 = abs(360 - d1_modulo)\n",
        "    print(d1_modulo,d2)\n",
        "    if d1_modulo < d2: return d1_modulo\n",
        "    else: return d2"
      ],
      "metadata": {
        "id": "kFF-tTN9c16D"
      },
      "execution_count": null,
      "outputs": []
    },
    {
      "cell_type": "code",
      "source": [
        "angulo(5,45)"
      ],
      "metadata": {
        "colab": {
          "base_uri": "https://localhost:8080/"
        },
        "id": "Upm6Zt30drkT",
        "outputId": "2bc190f1-ddb8-4be8-de83-0d81046fbd55"
      },
      "execution_count": null,
      "outputs": [
        {
          "output_type": "stream",
          "name": "stdout",
          "text": [
            "120.0 240.0\n"
          ]
        },
        {
          "output_type": "execute_result",
          "data": {
            "text/plain": [
              "120.0"
            ]
          },
          "metadata": {},
          "execution_count": 6
        }
      ]
    },
    {
      "cell_type": "code",
      "source": [
        "#.lower = letra minuscula\n",
        "#while True = loop\n",
        "# len, conta as caracteres da string\n",
        "def obter_horario():\n",
        "    while True:\n",
        "        entrada = input(\"Digite o horário no formato 'hh:mm' (ou 'f' para sair): \")\n",
        "        if entrada.lower() == 'f':\n",
        "            return None\n",
        "        if len(entrada) != 5:\n",
        "            print(\"Erro. Formato inválido\")\n",
        "        else:\n",
        "          if entrada[2] != \":\":\n",
        "            print(\"Erro! Formato Inválido\")\n",
        "          else:\n",
        "              # Excessão de erro para hora\n",
        "              try:\n",
        "                  hora = int(entrada[0:2])\n",
        "                  minutos = int(entrada[3:5])\n",
        "              except ValueError:\n",
        "                  print (\"Erro. Formato inválido\")\n",
        "\n",
        "              else:\n",
        "                if (hora in range(24)) and (minutos in range(60)):\n",
        "                  print (\"Entrada OK. Sucesso.\")\n",
        "                  print (angulo(hora, minutos))\n",
        "                else:\n",
        "                  print (\"Erro. Números Invalídos.\")\n",
        "obter_horario()"
      ],
      "metadata": {
        "colab": {
          "base_uri": "https://localhost:8080/"
        },
        "id": "9UptsU6Frq9j",
        "outputId": "70076f0d-c510-4cec-9210-aca2255b1211"
      },
      "execution_count": null,
      "outputs": [
        {
          "name": "stdout",
          "output_type": "stream",
          "text": [
            "Digite o horário no formato 'hh:mm' (ou 'f' para sair): 03:50\n",
            "Entrada OK. Sucesso.\n",
            "Digite o horário no formato 'hh:mm' (ou 'f' para sair): 45:55\n",
            "Erro. Números Invalídos.\n",
            "Digite o horário no formato 'hh:mm' (ou 'f' para sair): f\n"
          ]
        }
      ]
    },
    {
      "cell_type": "markdown",
      "source": [
        "TAREFA 2 - CAVALO DO XADREZ"
      ],
      "metadata": {
        "id": "wNvEyv2Y1WhQ"
      }
    },
    {
      "cell_type": "code",
      "source": [
        "def is_movimento_cavalo_valido(pos_inicial, pos_final):\n",
        "    letras_validas = ['a', 'b', 'c', 'd', 'e', 'f', 'g', 'h']\n",
        "    try:\n",
        "        col_inicial, lin_inicial = pos_inicial[0], int(pos_inicial[1])\n",
        "        col_final, lin_final = pos_final[0], int(pos_final[1])\n",
        "\n",
        "        if col_inicial not in letras_validas or col_final not in letras_validas:\n",
        "            raise ValueError(\"Posição inválida. Coluna deve ser uma letra de 'a' a 'h'.\")\n",
        "\n",
        "        if not 1 <= lin_inicial <= 8 or not 1 <= lin_final <= 8:\n",
        "            raise ValueError(\"Posição inválida. Linha deve ser um número de 1 a 8.\")\n",
        "\n",
        "        delta_col = abs(ord(col_final) - ord(col_inicial))\n",
        "        delta_lin = abs(lin_final - lin_inicial)\n",
        "\n",
        "        if (delta_col == 1 and delta_lin == 2) or (delta_col == 2 and delta_lin == 1):\n",
        "            return True\n",
        "        else:\n",
        "            return False\n",
        "\n",
        "    except ValueError as e:\n",
        "        print(e)\n",
        "        return False\n",
        "\n",
        "if __name__ == \"__main__\":\n",
        "    while True:\n",
        "        try:\n",
        "            pos_inicial = input(\"Digite a posição inicial do cavalo (exemplo: 'd4'): \")\n",
        "            if pos_inicial.lower() == 'f':\n",
        "                break\n",
        "\n",
        "            pos_final = input(\"Digite a posição final do cavalo (exemplo: 'e6'): \")\n",
        "            if pos_final.lower() == 'f':\n",
        "                break\n",
        "\n",
        "            if is_movimento_cavalo_valido(pos_inicial, pos_final):\n",
        "                print(\"Movimento válido.\")\n",
        "            else:\n",
        "                print(\"Movimento inválido.\")\n",
        "\n",
        "        except KeyboardInterrupt:\n",
        "            break\n"
      ],
      "metadata": {
        "colab": {
          "base_uri": "https://localhost:8080/"
        },
        "id": "VqK-nnjdJKVe",
        "outputId": "b97a1e61-06cb-4ee5-c35e-94ec243c8c43"
      },
      "execution_count": null,
      "outputs": [
        {
          "name": "stdout",
          "output_type": "stream",
          "text": [
            "Digite a posição inicial do cavalo (exemplo: 'd4'): d4 b2\n",
            "Digite a posição final do cavalo (exemplo: 'e6'): b2\n",
            "Movimento inválido.\n",
            "Digite a posição inicial do cavalo (exemplo: 'd4'): b6\n",
            "Digite a posição final do cavalo (exemplo: 'e6'): f\n"
          ]
        }
      ]
    },
    {
      "cell_type": "markdown",
      "source": [
        "Tarefa 3 - Calculador de notas e moedas\n"
      ],
      "metadata": {
        "id": "lpbdwSPhnVZ5"
      }
    },
    {
      "cell_type": "code",
      "source": [
        "def calcular_notas_moedas(valor):\n",
        "    notas_moedas = [100, 50, 20, 10, 5, 2, 1, 0.5, 0.25, 0.1, 0.05, 0.01]\n",
        "    quantidade_notas_moedas = {}\n",
        "\n",
        "    for nota_moeda in notas_moedas:\n",
        "        quantidade = int(valor / nota_moeda)\n",
        "        quantidade_notas_moedas[nota_moeda] = quantidade\n",
        "        valor -= quantidade * nota_moeda\n",
        "\n",
        "    return quantidade_notas_moedas\n",
        "\n",
        "def imprimir_notas_moedas(quantidade_notas_moedas):\n",
        "    print(\"Notas e moedas:\")\n",
        "    for nota_moeda, quantidade in quantidade_notas_moedas.items():\n",
        "        if quantidade > 0:\n",
        "            if nota_moeda >= 1:\n",
        "                print(f\"{quantidade} nota(s) de R${nota_moeda:.2f}\")\n",
        "            else:\n",
        "                print(f\"{quantidade} moeda(s) de R${nota_moeda:.2f}\")\n",
        "\n",
        "if __name__ == \"__main__\":\n",
        "    while True:\n",
        "        try:\n",
        "            valor = float(input(\"Digite o valor monetário (exemplo: 123.45): \"))\n",
        "            if valor < 0:\n",
        "                raise ValueError(\"Valor inválido. O valor deve ser maior ou igual a zero.\")\n",
        "\n",
        "            quantidade_notas_moedas = calcular_notas_moedas(valor)\n",
        "            imprimir_notas_moedas(quantidade_notas_moedas)\n",
        "            break\n",
        "\n",
        "        except ValueError as e:\n",
        "            print(e)\n",
        "\n"
      ],
      "metadata": {
        "colab": {
          "base_uri": "https://localhost:8080/"
        },
        "id": "Fo5OekZYJLSO",
        "outputId": "9c6d2d0c-bb8a-4549-ad85-58588aaf2112"
      },
      "execution_count": null,
      "outputs": [
        {
          "output_type": "stream",
          "name": "stdout",
          "text": [
            "Digite o valor monetário (exemplo: 123.45): 1672,00\n",
            "could not convert string to float: '1672,00'\n",
            "Digite o valor monetário (exemplo: 123.45): 1672\n",
            "Notas e moedas:\n",
            "16 nota(s) de R$100.00\n",
            "1 nota(s) de R$50.00\n",
            "1 nota(s) de R$20.00\n",
            "1 nota(s) de R$2.00\n"
          ]
        }
      ]
    },
    {
      "cell_type": "markdown",
      "source": [
        "Tarefa 4 - Frequência de Números"
      ],
      "metadata": {
        "id": "HJ57ZJE8pPio"
      }
    },
    {
      "cell_type": "code",
      "source": [
        "def calcular_frequencia(numeros):\n",
        "    frequencia = {}\n",
        "    for numero in numeros:\n",
        "        if numero in frequencia:\n",
        "            frequencia[numero] += 1\n",
        "        else:\n",
        "            frequencia[numero] = 1\n",
        "    return frequencia\n",
        "\n",
        "def main():\n",
        "    numeros = []\n",
        "\n",
        "    while True:\n",
        "        entrada = input(\"Digite um número inteiro ou 'f' para finalizar e contabilizar frequência \")\n",
        "\n",
        "        if entrada == 'f':\n",
        "            break\n",
        "\n",
        "        try:\n",
        "            numero = int(entrada)\n",
        "            numeros.append(numero)\n",
        "        except ValueError:\n",
        "            print(\"Entrada inválida!\")\n",
        "\n",
        "    frequencia = calcular_frequencia(numeros)\n",
        "\n",
        "    for numero, freq in frequencia.items():\n",
        "        print(f\"O número {numero} apareceu {freq} vezes.\")\n",
        "\n",
        "if __name__ == \"__main__\":\n",
        "    main()\n"
      ],
      "metadata": {
        "colab": {
          "base_uri": "https://localhost:8080/"
        },
        "id": "TVJh5NoJpWmj",
        "outputId": "fcafc589-42c5-4ecf-c534-243c81110c96"
      },
      "execution_count": null,
      "outputs": [
        {
          "output_type": "stream",
          "name": "stdout",
          "text": [
            "Digite um número inteiro ou 'f' para finalizar e contabilizar frequência 45\n",
            "Digite um número inteiro ou 'f' para finalizar e contabilizar frequência 45\n",
            "Digite um número inteiro ou 'f' para finalizar e contabilizar frequência 45\n",
            "Digite um número inteiro ou 'f' para finalizar e contabilizar frequência 45\n",
            "Digite um número inteiro ou 'f' para finalizar e contabilizar frequência 54\n",
            "Digite um número inteiro ou 'f' para finalizar e contabilizar frequência 54\n",
            "Digite um número inteiro ou 'f' para finalizar e contabilizar frequência 54\n",
            "Digite um número inteiro ou 'f' para finalizar e contabilizar frequência 14\n",
            "Digite um número inteiro ou 'f' para finalizar e contabilizar frequência 14\n",
            "Digite um número inteiro ou 'f' para finalizar e contabilizar frequência 14\n",
            "Digite um número inteiro ou 'f' para finalizar e contabilizar frequência 14\n",
            "Digite um número inteiro ou 'f' para finalizar e contabilizar frequência f\n",
            "O número 45 apareceu 4 vezes.\n",
            "O número 54 apareceu 3 vezes.\n",
            "O número 14 apareceu 4 vezes.\n"
          ]
        }
      ]
    },
    {
      "cell_type": "code",
      "source": [],
      "metadata": {
        "id": "gYdY4_dvvfrm"
      },
      "execution_count": null,
      "outputs": []
    }
  ]
}